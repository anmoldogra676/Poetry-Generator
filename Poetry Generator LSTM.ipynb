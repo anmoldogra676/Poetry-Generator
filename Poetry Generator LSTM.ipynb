{
  "nbformat": 4,
  "nbformat_minor": 0,
  "metadata": {
    "accelerator": "GPU",
    "colab": {
      "name": "NLP_Week4_Exercise_Shakespeare_Answer.ipynb",
      "provenance": [],
      "toc_visible": true
    },
    "kernelspec": {
      "display_name": "Python 3",
      "name": "python3"
    }
  },
  "cells": [
    {
      "cell_type": "code",
      "metadata": {
        "id": "zX4Kg8DUTKWO",
        "colab_type": "code",
        "colab": {}
      },
      "source": [
        "#@title Licensed under the Apache License, Version 2.0 (the \"License\");\n",
        "# you may not use this file except in compliance with the License.\n",
        "# You may obtain a copy of the License at\n",
        "#\n",
        "# https://www.apache.org/licenses/LICENSE-2.0\n",
        "#\n",
        "# Unless required by applicable law or agreed to in writing, software\n",
        "# distributed under the License is distributed on an \"AS IS\" BASIS,\n",
        "# WITHOUT WARRANTIES OR CONDITIONS OF ANY KIND, either express or implied.\n",
        "# See the License for the specific language governing permissions and\n",
        "# limitations under the License."
      ],
      "execution_count": 0,
      "outputs": []
    },
    {
      "cell_type": "code",
      "metadata": {
        "colab_type": "code",
        "id": "BOwsuGQQY9OL",
        "colab": {}
      },
      "source": [
        "from tensorflow.keras.preprocessing.sequence import pad_sequences\n",
        "from tensorflow.keras.layers import Embedding, LSTM, Dense, Dropout, Bidirectional\n",
        "from tensorflow.keras.preprocessing.text import Tokenizer\n",
        "from tensorflow.keras.models import Sequential\n",
        "from tensorflow.keras.optimizers import Adam\n",
        "from tensorflow.keras import regularizers\n",
        "import tensorflow.keras.utils as ku \n",
        "import numpy as np \n"
      ],
      "execution_count": 0,
      "outputs": []
    },
    {
      "cell_type": "code",
      "metadata": {
        "colab_type": "code",
        "id": "PRnDnCW-Z7qv",
        "colab": {}
      },
      "source": [
        "tokenizer = Tokenizer()\n",
        "\n",
        "data = open('FILE.txt').read()\n",
        "\n",
        "corpus = data.lower().split(\"\\n\")\n",
        "\n",
        "\n",
        "tokenizer.fit_on_texts(corpus)\n",
        "total_words = len(tokenizer.word_index) + 1\n",
        "\n",
        "# create input sequences using list of tokens\n",
        "input_sequences = []\n",
        "for line in corpus:\n",
        "\ttoken_list = tokenizer.texts_to_sequences([line])[0]\n",
        "\tfor i in range(1, len(token_list)):\n",
        "\t\tn_gram_sequence = token_list[:i+1]\n",
        "\t\tinput_sequences.append(n_gram_sequence)\n",
        "\n",
        "\n",
        "# pad sequences \n",
        "max_sequence_len = max([len(x) for x in input_sequences])\n",
        "input_sequences = np.array(pad_sequences(input_sequences, maxlen=max_sequence_len, padding='pre'))\n",
        "\n",
        "# create predictors and label\n",
        "predictors, label = input_sequences[:,:-1],input_sequences[:,-1]\n",
        "\n",
        "label = ku.to_categorical(label, num_classes=total_words)"
      ],
      "execution_count": 0,
      "outputs": []
    },
    {
      "cell_type": "code",
      "metadata": {
        "colab_type": "code",
        "id": "w9vH8Y59ajYL",
        "colab": {
          "base_uri": "https://localhost:8080/",
          "height": 403
        },
        "outputId": "41044f4a-f07a-4f62-a03d-9288183e9e31"
      },
      "source": [
        "model = Sequential()\n",
        "model.add(Embedding(total_words, 100, input_length=max_sequence_len-1))\n",
        "model.add(Bidirectional(LSTM(150, return_sequences = True)))\n",
        "model.add(Dropout(0.2))\n",
        "model.add(LSTM(100))\n",
        "model.add(Dense(total_words/2, activation='relu', kernel_regularizer=regularizers.l2(0.01)))\n",
        "model.add(Dense(total_words, activation='softmax'))\n",
        "model.compile(loss='categorical_crossentropy', optimizer='adam', metrics=['accuracy'])\n",
        "print(model.summary())\n"
      ],
      "execution_count": 6,
      "outputs": [
        {
          "output_type": "stream",
          "text": [
            "Model: \"sequential\"\n",
            "_________________________________________________________________\n",
            "Layer (type)                 Output Shape              Param #   \n",
            "=================================================================\n",
            "embedding (Embedding)        (None, 11, 100)           167400    \n",
            "_________________________________________________________________\n",
            "bidirectional (Bidirectional (None, 11, 300)           301200    \n",
            "_________________________________________________________________\n",
            "dropout (Dropout)            (None, 11, 300)           0         \n",
            "_________________________________________________________________\n",
            "lstm_1 (LSTM)                (None, 100)               160400    \n",
            "_________________________________________________________________\n",
            "dense (Dense)                (None, 837)               84537     \n",
            "_________________________________________________________________\n",
            "dense_1 (Dense)              (None, 1674)              1402812   \n",
            "=================================================================\n",
            "Total params: 2,116,349\n",
            "Trainable params: 2,116,349\n",
            "Non-trainable params: 0\n",
            "_________________________________________________________________\n",
            "None\n"
          ],
          "name": "stdout"
        }
      ]
    },
    {
      "cell_type": "code",
      "metadata": {
        "colab_type": "code",
        "id": "AIg2f1HBxqof",
        "colab": {
          "base_uri": "https://localhost:8080/",
          "height": 1000
        },
        "outputId": "48a10cb5-e550-4c21-f061-90735047e452"
      },
      "source": [
        " history = model.fit(predictors, label, epochs=100, verbose=1)"
      ],
      "execution_count": 8,
      "outputs": [
        {
          "output_type": "stream",
          "text": [
            "Epoch 1/100\n",
            "121/121 [==============================] - 1s 10ms/step - loss: 7.3262 - accuracy: 0.0528\n",
            "Epoch 2/100\n",
            "121/121 [==============================] - 1s 9ms/step - loss: 6.3739 - accuracy: 0.0561\n",
            "Epoch 3/100\n",
            "121/121 [==============================] - 1s 9ms/step - loss: 6.1901 - accuracy: 0.0561\n",
            "Epoch 4/100\n",
            "121/121 [==============================] - 1s 9ms/step - loss: 6.1126 - accuracy: 0.0520\n",
            "Epoch 5/100\n",
            "121/121 [==============================] - 1s 9ms/step - loss: 6.0130 - accuracy: 0.0598\n",
            "Epoch 6/100\n",
            "121/121 [==============================] - 1s 9ms/step - loss: 5.9170 - accuracy: 0.0623\n",
            "Epoch 7/100\n",
            "121/121 [==============================] - 1s 9ms/step - loss: 5.8486 - accuracy: 0.0618\n",
            "Epoch 8/100\n",
            "121/121 [==============================] - 1s 9ms/step - loss: 5.7938 - accuracy: 0.0657\n",
            "Epoch 9/100\n",
            "121/121 [==============================] - 1s 9ms/step - loss: 5.7312 - accuracy: 0.0709\n",
            "Epoch 10/100\n",
            "121/121 [==============================] - 1s 9ms/step - loss: 5.6810 - accuracy: 0.0763\n",
            "Epoch 11/100\n",
            "121/121 [==============================] - 1s 9ms/step - loss: 5.6095 - accuracy: 0.0792\n",
            "Epoch 12/100\n",
            "121/121 [==============================] - 1s 9ms/step - loss: 5.5424 - accuracy: 0.0854\n",
            "Epoch 13/100\n",
            "121/121 [==============================] - 1s 9ms/step - loss: 5.4841 - accuracy: 0.0877\n",
            "Epoch 14/100\n",
            "121/121 [==============================] - 1s 9ms/step - loss: 5.4553 - accuracy: 0.0859\n",
            "Epoch 15/100\n",
            "121/121 [==============================] - 1s 9ms/step - loss: 5.3555 - accuracy: 0.0908\n",
            "Epoch 16/100\n",
            "121/121 [==============================] - 1s 9ms/step - loss: 5.2938 - accuracy: 0.0944\n",
            "Epoch 17/100\n",
            "121/121 [==============================] - 1s 9ms/step - loss: 5.2216 - accuracy: 0.0986\n",
            "Epoch 18/100\n",
            "121/121 [==============================] - 1s 9ms/step - loss: 5.1592 - accuracy: 0.0960\n",
            "Epoch 19/100\n",
            "121/121 [==============================] - 1s 9ms/step - loss: 5.1074 - accuracy: 0.0991\n",
            "Epoch 20/100\n",
            "121/121 [==============================] - 1s 9ms/step - loss: 5.0552 - accuracy: 0.0986\n",
            "Epoch 21/100\n",
            "121/121 [==============================] - 1s 9ms/step - loss: 5.0085 - accuracy: 0.1022\n",
            "Epoch 22/100\n",
            "121/121 [==============================] - 1s 9ms/step - loss: 4.9558 - accuracy: 0.1053\n",
            "Epoch 23/100\n",
            "121/121 [==============================] - 1s 9ms/step - loss: 4.9129 - accuracy: 0.1027\n",
            "Epoch 24/100\n",
            "121/121 [==============================] - 1s 9ms/step - loss: 4.8594 - accuracy: 0.1071\n",
            "Epoch 25/100\n",
            "121/121 [==============================] - 1s 9ms/step - loss: 4.8045 - accuracy: 0.1105\n",
            "Epoch 26/100\n",
            "121/121 [==============================] - 1s 9ms/step - loss: 4.7567 - accuracy: 0.1117\n",
            "Epoch 27/100\n",
            "121/121 [==============================] - 1s 9ms/step - loss: 4.6992 - accuracy: 0.1190\n",
            "Epoch 28/100\n",
            "121/121 [==============================] - 1s 9ms/step - loss: 4.6530 - accuracy: 0.1247\n",
            "Epoch 29/100\n",
            "121/121 [==============================] - 1s 9ms/step - loss: 4.6029 - accuracy: 0.1314\n",
            "Epoch 30/100\n",
            "121/121 [==============================] - 1s 9ms/step - loss: 4.5587 - accuracy: 0.1402\n",
            "Epoch 31/100\n",
            "121/121 [==============================] - 1s 9ms/step - loss: 4.5028 - accuracy: 0.1407\n",
            "Epoch 32/100\n",
            "121/121 [==============================] - 1s 10ms/step - loss: 4.4584 - accuracy: 0.1461\n",
            "Epoch 33/100\n",
            "121/121 [==============================] - 1s 10ms/step - loss: 4.4136 - accuracy: 0.1495\n",
            "Epoch 34/100\n",
            "121/121 [==============================] - 1s 10ms/step - loss: 4.3656 - accuracy: 0.1511\n",
            "Epoch 35/100\n",
            "121/121 [==============================] - 1s 10ms/step - loss: 4.3193 - accuracy: 0.1586\n",
            "Epoch 36/100\n",
            "121/121 [==============================] - 1s 9ms/step - loss: 4.2821 - accuracy: 0.1637\n",
            "Epoch 37/100\n",
            "121/121 [==============================] - 1s 9ms/step - loss: 4.2276 - accuracy: 0.1679\n",
            "Epoch 38/100\n",
            "121/121 [==============================] - 1s 9ms/step - loss: 4.1969 - accuracy: 0.1785\n",
            "Epoch 39/100\n",
            "121/121 [==============================] - 1s 9ms/step - loss: 4.1552 - accuracy: 0.1743\n",
            "Epoch 40/100\n",
            "121/121 [==============================] - 1s 9ms/step - loss: 4.1194 - accuracy: 0.1780\n",
            "Epoch 41/100\n",
            "121/121 [==============================] - 1s 9ms/step - loss: 4.0644 - accuracy: 0.1878\n",
            "Epoch 42/100\n",
            "121/121 [==============================] - 1s 9ms/step - loss: 4.0439 - accuracy: 0.1834\n",
            "Epoch 43/100\n",
            "121/121 [==============================] - 1s 9ms/step - loss: 4.0111 - accuracy: 0.1875\n",
            "Epoch 44/100\n",
            "121/121 [==============================] - 1s 9ms/step - loss: 3.9854 - accuracy: 0.1899\n",
            "Epoch 45/100\n",
            "121/121 [==============================] - 1s 9ms/step - loss: 3.9270 - accuracy: 0.1984\n",
            "Epoch 46/100\n",
            "121/121 [==============================] - 1s 9ms/step - loss: 3.8745 - accuracy: 0.2121\n",
            "Epoch 47/100\n",
            "121/121 [==============================] - 1s 9ms/step - loss: 3.8399 - accuracy: 0.2116\n",
            "Epoch 48/100\n",
            "121/121 [==============================] - 1s 9ms/step - loss: 3.8063 - accuracy: 0.2147\n",
            "Epoch 49/100\n",
            "121/121 [==============================] - 1s 9ms/step - loss: 3.7667 - accuracy: 0.2230\n",
            "Epoch 50/100\n",
            "121/121 [==============================] - 1s 9ms/step - loss: 3.7129 - accuracy: 0.2300\n",
            "Epoch 51/100\n",
            "121/121 [==============================] - 1s 9ms/step - loss: 3.6781 - accuracy: 0.2398\n",
            "Epoch 52/100\n",
            "121/121 [==============================] - 1s 9ms/step - loss: 3.6498 - accuracy: 0.2372\n",
            "Epoch 53/100\n",
            "121/121 [==============================] - 1s 9ms/step - loss: 3.5975 - accuracy: 0.2499\n",
            "Epoch 54/100\n",
            "121/121 [==============================] - 1s 9ms/step - loss: 3.5561 - accuracy: 0.2581\n",
            "Epoch 55/100\n",
            "121/121 [==============================] - 1s 9ms/step - loss: 3.5330 - accuracy: 0.2496\n",
            "Epoch 56/100\n",
            "121/121 [==============================] - 1s 9ms/step - loss: 3.4877 - accuracy: 0.2574\n",
            "Epoch 57/100\n",
            "121/121 [==============================] - 1s 9ms/step - loss: 3.4366 - accuracy: 0.2698\n",
            "Epoch 58/100\n",
            "121/121 [==============================] - 1s 9ms/step - loss: 3.4155 - accuracy: 0.2773\n",
            "Epoch 59/100\n",
            "121/121 [==============================] - 1s 9ms/step - loss: 3.3603 - accuracy: 0.2884\n",
            "Epoch 60/100\n",
            "121/121 [==============================] - 1s 9ms/step - loss: 3.3439 - accuracy: 0.2928\n",
            "Epoch 61/100\n",
            "121/121 [==============================] - 1s 9ms/step - loss: 3.3008 - accuracy: 0.2936\n",
            "Epoch 62/100\n",
            "121/121 [==============================] - 1s 9ms/step - loss: 3.2521 - accuracy: 0.3101\n",
            "Epoch 63/100\n",
            "121/121 [==============================] - 1s 9ms/step - loss: 3.2119 - accuracy: 0.3174\n",
            "Epoch 64/100\n",
            "121/121 [==============================] - 1s 10ms/step - loss: 3.1699 - accuracy: 0.3262\n",
            "Epoch 65/100\n",
            "121/121 [==============================] - 1s 9ms/step - loss: 3.1655 - accuracy: 0.3282\n",
            "Epoch 66/100\n",
            "121/121 [==============================] - 1s 9ms/step - loss: 3.1126 - accuracy: 0.3389\n",
            "Epoch 67/100\n",
            "121/121 [==============================] - 1s 9ms/step - loss: 3.0593 - accuracy: 0.3469\n",
            "Epoch 68/100\n",
            "121/121 [==============================] - 1s 9ms/step - loss: 3.0180 - accuracy: 0.3541\n",
            "Epoch 69/100\n",
            "121/121 [==============================] - 1s 9ms/step - loss: 2.9800 - accuracy: 0.3606\n",
            "Epoch 70/100\n",
            "121/121 [==============================] - 1s 9ms/step - loss: 2.9409 - accuracy: 0.3709\n",
            "Epoch 71/100\n",
            "121/121 [==============================] - 1s 9ms/step - loss: 2.8920 - accuracy: 0.3839\n",
            "Epoch 72/100\n",
            "121/121 [==============================] - 1s 9ms/step - loss: 2.8743 - accuracy: 0.3921\n",
            "Epoch 73/100\n",
            "121/121 [==============================] - 1s 9ms/step - loss: 2.8165 - accuracy: 0.4071\n",
            "Epoch 74/100\n",
            "121/121 [==============================] - 1s 9ms/step - loss: 2.7835 - accuracy: 0.4092\n",
            "Epoch 75/100\n",
            "121/121 [==============================] - 1s 9ms/step - loss: 2.7494 - accuracy: 0.4208\n",
            "Epoch 76/100\n",
            "121/121 [==============================] - 1s 9ms/step - loss: 2.7260 - accuracy: 0.4299\n",
            "Epoch 77/100\n",
            "121/121 [==============================] - 1s 9ms/step - loss: 2.6932 - accuracy: 0.4384\n",
            "Epoch 78/100\n",
            "121/121 [==============================] - 1s 9ms/step - loss: 2.6546 - accuracy: 0.4444\n",
            "Epoch 79/100\n",
            "121/121 [==============================] - 1s 9ms/step - loss: 2.6111 - accuracy: 0.4604\n",
            "Epoch 80/100\n",
            "121/121 [==============================] - 1s 9ms/step - loss: 2.5741 - accuracy: 0.4615\n",
            "Epoch 81/100\n",
            "121/121 [==============================] - 1s 9ms/step - loss: 2.5484 - accuracy: 0.4703\n",
            "Epoch 82/100\n",
            "121/121 [==============================] - 1s 9ms/step - loss: 2.5024 - accuracy: 0.4902\n",
            "Epoch 83/100\n",
            "121/121 [==============================] - 1s 9ms/step - loss: 2.4754 - accuracy: 0.4943\n",
            "Epoch 84/100\n",
            "121/121 [==============================] - 1s 9ms/step - loss: 2.4433 - accuracy: 0.5023\n",
            "Epoch 85/100\n",
            "121/121 [==============================] - 1s 9ms/step - loss: 2.4127 - accuracy: 0.5075\n",
            "Epoch 86/100\n",
            "121/121 [==============================] - 1s 9ms/step - loss: 2.3773 - accuracy: 0.5217\n",
            "Epoch 87/100\n",
            "121/121 [==============================] - 1s 9ms/step - loss: 2.3521 - accuracy: 0.5285\n",
            "Epoch 88/100\n",
            "121/121 [==============================] - 1s 9ms/step - loss: 2.3199 - accuracy: 0.5303\n",
            "Epoch 89/100\n",
            "121/121 [==============================] - 1s 9ms/step - loss: 2.2885 - accuracy: 0.5409\n",
            "Epoch 90/100\n",
            "121/121 [==============================] - 1s 9ms/step - loss: 2.2622 - accuracy: 0.5491\n",
            "Epoch 91/100\n",
            "121/121 [==============================] - 1s 9ms/step - loss: 2.2333 - accuracy: 0.5608\n",
            "Epoch 92/100\n",
            "121/121 [==============================] - 1s 9ms/step - loss: 2.2209 - accuracy: 0.5554\n",
            "Epoch 93/100\n",
            "121/121 [==============================] - 1s 9ms/step - loss: 2.1879 - accuracy: 0.5515\n",
            "Epoch 94/100\n",
            "121/121 [==============================] - 1s 9ms/step - loss: 2.1442 - accuracy: 0.5737\n",
            "Epoch 95/100\n",
            "121/121 [==============================] - 1s 9ms/step - loss: 2.1368 - accuracy: 0.5717\n",
            "Epoch 96/100\n",
            "121/121 [==============================] - 1s 9ms/step - loss: 2.1528 - accuracy: 0.5732\n",
            "Epoch 97/100\n",
            "121/121 [==============================] - 1s 9ms/step - loss: 2.1042 - accuracy: 0.5869\n",
            "Epoch 98/100\n",
            "121/121 [==============================] - 1s 9ms/step - loss: 2.0504 - accuracy: 0.6019\n",
            "Epoch 99/100\n",
            "121/121 [==============================] - 1s 9ms/step - loss: 2.0226 - accuracy: 0.6073\n",
            "Epoch 100/100\n",
            "121/121 [==============================] - 1s 9ms/step - loss: 1.9921 - accuracy: 0.6061\n"
          ],
          "name": "stdout"
        }
      ]
    },
    {
      "cell_type": "code",
      "metadata": {
        "colab_type": "code",
        "id": "1fXTEO3GJ282",
        "colab": {
          "base_uri": "https://localhost:8080/",
          "height": 545
        },
        "outputId": "66149884-a513-4c18-a18c-9c2a46f1d03a"
      },
      "source": [
        "import matplotlib.pyplot as plt\n",
        "acc = history.history['accuracy']\n",
        "loss = history.history['loss']\n",
        "\n",
        "epochs = range(len(acc))\n",
        "\n",
        "plt.plot(epochs, acc, 'b', label='Training accuracy')\n",
        "plt.title('Training accuracy')\n",
        "\n",
        "plt.figure()\n",
        "\n",
        "plt.plot(epochs, loss, 'b', label='Training Loss')\n",
        "plt.title('Training loss')\n",
        "plt.legend()\n",
        "\n",
        "plt.show()"
      ],
      "execution_count": 10,
      "outputs": [
        {
          "output_type": "display_data",
          "data": {
            "image/png": "[encoded data removed]",
            "text/plain": [
              "<Figure size 432x288 with 1 Axes>"
            ]
          },
          "metadata": {
            "tags": [],
            "needs_background": "light"
          }
        },
        {
          "output_type": "display_data",
          "data": {
            "image/png": "[encoded data removed]",
            "text/plain": [
              "<Figure size 432x288 with 1 Axes>"
            ]
          },
          "metadata": {
            "tags": [],
            "needs_background": "light"
          }
        }
      ]
    },
    {
      "cell_type": "code",
      "metadata": {
        "colab_type": "code",
        "id": "6Vc6PHgxa6Hm",
        "colab": {
          "base_uri": "https://localhost:8080/",
          "height": 55
        },
        "outputId": "457c28bb-41f3-4dd0-94c0-99958f4c17c3"
      },
      "source": [
        "seed_text = \" You are my  only hope in this life\"\n",
        "next_words = 100\n",
        "  \n",
        "for _ in range(next_words):\n",
        "\ttoken_list = tokenizer.texts_to_sequences([seed_text])[0]\n",
        "\ttoken_list = pad_sequences([token_list], maxlen=max_sequence_len-1, padding='pre')\n",
        "\tpredicted = model.predict_classes(token_list, verbose=0)\n",
        "\toutput_word = \"\"\n",
        "\tfor word, index in tokenizer.word_index.items():\n",
        "\t\tif index == predicted:\n",
        "\t\t\toutput_word = word\n",
        "\t\t\tbreak\n",
        "\tseed_text += \" \" + output_word\n",
        "print(seed_text)"
      ],
      "execution_count": 14,
      "outputs": [
        {
          "output_type": "stream",
          "text": [
            " You are my  only hope in this life to know us might day fall up in our society stops us race in your heart so world and loved dwelling fall a thread to fall my life is the world to madness but a song to fall up at the old petal chief so fries to hold on fall fall fall fall on your hair eyes weeping worth on our brains that it's the thread fall to be known as fall up on the mountain so can get never his band to the way fall the song to the thread on a wooden pane to be sung of life\n"
          ],
          "name": "stdout"
        }
      ]
    }
  ]
}